{
 "cells": [
  {
   "cell_type": "code",
   "execution_count": 2,
   "metadata": {},
   "outputs": [],
   "source": [
    "import pandas as pd \n",
    "import numpy as np \n",
    "import matplotlib.pyplot as plt\n",
    "import seaborn as sns"
   ]
  },
  {
   "cell_type": "code",
   "execution_count": 3,
   "metadata": {},
   "outputs": [],
   "source": [
    "# uploading data through pandas read excel funtion for control sheet \n",
    "control = pd.read_excel(r'C:\\Users\\amin7\\OneDrive\\Desktop\\VS code\\0 CAC _ Case Study Data .xlsx','Control') # change the path as per the loction your profile "
   ]
  },
  {
   "cell_type": "code",
   "execution_count": 4,
   "metadata": {},
   "outputs": [],
   "source": [
    "# uploading data through pandas read excel funtion for test sheet \n",
    "test = pd.read_excel(r'C:\\Users\\amin7\\OneDrive\\Desktop\\VS code\\0 CAC _ Case Study Data .xlsx','Test ')# change the path as per the location of your file "
   ]
  },
  {
   "cell_type": "code",
   "execution_count": 5,
   "metadata": {},
   "outputs": [
    {
     "name": "stdout",
     "output_type": "stream",
     "text": [
      "<class 'pandas.core.frame.DataFrame'>\n",
      "RangeIndex: 1000 entries, 0 to 999\n",
      "Data columns (total 20 columns):\n",
      " #   Column                      Non-Null Count  Dtype  \n",
      "---  ------                      --------------  -----  \n",
      " 0   Kid Name                    1000 non-null   object \n",
      " 1   Age(In Years)               1000 non-null   int64  \n",
      " 2   State                       1000 non-null   object \n",
      " 3   Is Male?                    1000 non-null   int64  \n",
      " 4   Is Rural Area ?             1000 non-null   int64  \n",
      " 5   Is Meat Consumer?           1000 non-null   int64  \n",
      " 6   HouseHold Income per month  1000 non-null   float64\n",
      " 7   Base Height                 1000 non-null   float64\n",
      " 8   Month 1                     1000 non-null   float64\n",
      " 9   Month 2                     1000 non-null   float64\n",
      " 10  Month 3                     1000 non-null   float64\n",
      " 11  Month 4                     1000 non-null   float64\n",
      " 12  Month 5                     1000 non-null   float64\n",
      " 13  Month 6                     1000 non-null   float64\n",
      " 14  Month 7                     1000 non-null   float64\n",
      " 15  Month 8                     1000 non-null   float64\n",
      " 16  Month 9                     1000 non-null   float64\n",
      " 17  Month 10                    1000 non-null   float64\n",
      " 18  Month 11                    1000 non-null   float64\n",
      " 19  Month 12                    1000 non-null   float64\n",
      "dtypes: float64(14), int64(4), object(2)\n",
      "memory usage: 156.4+ KB\n"
     ]
    }
   ],
   "source": [
    "control.info() # checking the info about the cotrol data wheather there is null value present or we need to change the data type "
   ]
  },
  {
   "cell_type": "code",
   "execution_count": 6,
   "metadata": {},
   "outputs": [
    {
     "name": "stdout",
     "output_type": "stream",
     "text": [
      "<class 'pandas.core.frame.DataFrame'>\n",
      "RangeIndex: 1000 entries, 0 to 999\n",
      "Data columns (total 20 columns):\n",
      " #   Column                      Non-Null Count  Dtype  \n",
      "---  ------                      --------------  -----  \n",
      " 0   Kid Name                    1000 non-null   object \n",
      " 1   Age(In Years)               1000 non-null   int64  \n",
      " 2   State                       1000 non-null   object \n",
      " 3   Is Male?                    1000 non-null   int64  \n",
      " 4   Is Rural Area ?             1000 non-null   int64  \n",
      " 5   Is Meat Consumer?           1000 non-null   int64  \n",
      " 6   HouseHold Income per month  1000 non-null   int64  \n",
      " 7   Base Height                 1000 non-null   float64\n",
      " 8   Month 1                     1000 non-null   float64\n",
      " 9   Month 2                     1000 non-null   float64\n",
      " 10  Month 3                     1000 non-null   float64\n",
      " 11  Month 4                     1000 non-null   float64\n",
      " 12  Month 5                     1000 non-null   float64\n",
      " 13  Month 6                     1000 non-null   float64\n",
      " 14  Month 7                     1000 non-null   float64\n",
      " 15  Month 8                     1000 non-null   float64\n",
      " 16  Month 9                     1000 non-null   float64\n",
      " 17  Month 10                    1000 non-null   float64\n",
      " 18  Month 11                    1000 non-null   float64\n",
      " 19  Month 12                    1000 non-null   float64\n",
      "dtypes: float64(13), int64(5), object(2)\n",
      "memory usage: 156.4+ KB\n"
     ]
    }
   ],
   "source": [
    "test.info() #  checking the info about the cotrol data wheather there is null value present or we need to change the data type "
   ]
  },
  {
   "cell_type": "code",
   "execution_count": 7,
   "metadata": {},
   "outputs": [
    {
     "data": {
      "text/html": [
       "<div>\n",
       "<style scoped>\n",
       "    .dataframe tbody tr th:only-of-type {\n",
       "        vertical-align: middle;\n",
       "    }\n",
       "\n",
       "    .dataframe tbody tr th {\n",
       "        vertical-align: top;\n",
       "    }\n",
       "\n",
       "    .dataframe thead th {\n",
       "        text-align: right;\n",
       "    }\n",
       "</style>\n",
       "<table border=\"1\" class=\"dataframe\">\n",
       "  <thead>\n",
       "    <tr style=\"text-align: right;\">\n",
       "      <th></th>\n",
       "      <th>Kid Name</th>\n",
       "      <th>Age(In Years)</th>\n",
       "      <th>State</th>\n",
       "      <th>Is Male?</th>\n",
       "      <th>Is Rural Area ?</th>\n",
       "      <th>Is Meat Consumer?</th>\n",
       "      <th>HouseHold Income per month</th>\n",
       "      <th>Base Height</th>\n",
       "      <th>Month 1</th>\n",
       "      <th>Month 2</th>\n",
       "      <th>Month 3</th>\n",
       "      <th>Month 4</th>\n",
       "      <th>Month 5</th>\n",
       "      <th>Month 6</th>\n",
       "      <th>Month 7</th>\n",
       "      <th>Month 8</th>\n",
       "      <th>Month 9</th>\n",
       "      <th>Month 10</th>\n",
       "      <th>Month 11</th>\n",
       "      <th>Month 12</th>\n",
       "    </tr>\n",
       "  </thead>\n",
       "  <tbody>\n",
       "    <tr>\n",
       "      <th>0</th>\n",
       "      <td>Control Kid 1</td>\n",
       "      <td>10</td>\n",
       "      <td>Jammu &amp; Kashmir</td>\n",
       "      <td>0</td>\n",
       "      <td>1</td>\n",
       "      <td>1</td>\n",
       "      <td>92620.405078</td>\n",
       "      <td>123.593012</td>\n",
       "      <td>123.946823</td>\n",
       "      <td>124.205991</td>\n",
       "      <td>124.493156</td>\n",
       "      <td>124.630356</td>\n",
       "      <td>124.853042</td>\n",
       "      <td>125.164774</td>\n",
       "      <td>125.171243</td>\n",
       "      <td>125.538908</td>\n",
       "      <td>125.655198</td>\n",
       "      <td>126.123840</td>\n",
       "      <td>126.410531</td>\n",
       "      <td>126.760821</td>\n",
       "    </tr>\n",
       "    <tr>\n",
       "      <th>1</th>\n",
       "      <td>Control Kid 10</td>\n",
       "      <td>2</td>\n",
       "      <td>Jammu &amp; Kashmir</td>\n",
       "      <td>1</td>\n",
       "      <td>1</td>\n",
       "      <td>0</td>\n",
       "      <td>54818.901794</td>\n",
       "      <td>93.937589</td>\n",
       "      <td>94.140783</td>\n",
       "      <td>94.409207</td>\n",
       "      <td>94.477681</td>\n",
       "      <td>94.849534</td>\n",
       "      <td>94.883007</td>\n",
       "      <td>95.265629</td>\n",
       "      <td>95.382216</td>\n",
       "      <td>95.826262</td>\n",
       "      <td>96.173680</td>\n",
       "      <td>96.631926</td>\n",
       "      <td>96.796737</td>\n",
       "      <td>96.992826</td>\n",
       "    </tr>\n",
       "    <tr>\n",
       "      <th>2</th>\n",
       "      <td>Control Kid 100</td>\n",
       "      <td>9</td>\n",
       "      <td>Rajasthan</td>\n",
       "      <td>1</td>\n",
       "      <td>1</td>\n",
       "      <td>0</td>\n",
       "      <td>70644.700077</td>\n",
       "      <td>133.431480</td>\n",
       "      <td>133.715893</td>\n",
       "      <td>134.106455</td>\n",
       "      <td>134.356008</td>\n",
       "      <td>134.575979</td>\n",
       "      <td>135.041954</td>\n",
       "      <td>135.272322</td>\n",
       "      <td>135.456898</td>\n",
       "      <td>135.869125</td>\n",
       "      <td>136.077056</td>\n",
       "      <td>136.574979</td>\n",
       "      <td>136.889183</td>\n",
       "      <td>137.267993</td>\n",
       "    </tr>\n",
       "    <tr>\n",
       "      <th>3</th>\n",
       "      <td>Control Kid 1000</td>\n",
       "      <td>10</td>\n",
       "      <td>Tamil Nadu</td>\n",
       "      <td>0</td>\n",
       "      <td>1</td>\n",
       "      <td>1</td>\n",
       "      <td>66002.033030</td>\n",
       "      <td>129.336343</td>\n",
       "      <td>129.495101</td>\n",
       "      <td>129.989530</td>\n",
       "      <td>130.005897</td>\n",
       "      <td>130.384033</td>\n",
       "      <td>130.641883</td>\n",
       "      <td>130.708637</td>\n",
       "      <td>130.976345</td>\n",
       "      <td>131.383418</td>\n",
       "      <td>131.471949</td>\n",
       "      <td>131.714286</td>\n",
       "      <td>131.882812</td>\n",
       "      <td>132.340417</td>\n",
       "    </tr>\n",
       "    <tr>\n",
       "      <th>4</th>\n",
       "      <td>Control Kid 101</td>\n",
       "      <td>17</td>\n",
       "      <td>Rajasthan</td>\n",
       "      <td>1</td>\n",
       "      <td>1</td>\n",
       "      <td>1</td>\n",
       "      <td>80633.102578</td>\n",
       "      <td>174.086832</td>\n",
       "      <td>174.499471</td>\n",
       "      <td>175.331188</td>\n",
       "      <td>175.771048</td>\n",
       "      <td>176.469115</td>\n",
       "      <td>176.492834</td>\n",
       "      <td>176.781431</td>\n",
       "      <td>177.375761</td>\n",
       "      <td>177.661580</td>\n",
       "      <td>178.271203</td>\n",
       "      <td>178.954915</td>\n",
       "      <td>179.452447</td>\n",
       "      <td>179.731554</td>\n",
       "    </tr>\n",
       "  </tbody>\n",
       "</table>\n",
       "</div>"
      ],
      "text/plain": [
       "          Kid Name   Age(In Years)              State  Is Male?   \n",
       "0     Control Kid 1              10  Jammu & Kashmir          0  \\\n",
       "1    Control Kid 10               2  Jammu & Kashmir          1   \n",
       "2   Control Kid 100               9         Rajasthan         1   \n",
       "3  Control Kid 1000              10       Tamil Nadu          0   \n",
       "4   Control Kid 101              17         Rajasthan         1   \n",
       "\n",
       "   Is Rural Area ?  Is Meat Consumer?  HouseHold Income per month   \n",
       "0                1                  1                92620.405078  \\\n",
       "1                1                  0                54818.901794   \n",
       "2                1                  0                70644.700077   \n",
       "3                1                  1                66002.033030   \n",
       "4                1                  1                80633.102578   \n",
       "\n",
       "   Base Height     Month 1     Month 2     Month 3    Month 4      Month 5   \n",
       "0   123.593012  123.946823  124.205991  124.493156  124.630356  124.853042  \\\n",
       "1    93.937589   94.140783   94.409207   94.477681   94.849534   94.883007   \n",
       "2   133.431480  133.715893  134.106455  134.356008  134.575979  135.041954   \n",
       "3   129.336343  129.495101  129.989530  130.005897  130.384033  130.641883   \n",
       "4   174.086832  174.499471  175.331188  175.771048  176.469115  176.492834   \n",
       "\n",
       "      Month 6    Month 7      Month 8     Month 9    Month 10    Month 11   \n",
       "0  125.164774  125.171243  125.538908  125.655198  126.123840  126.410531  \\\n",
       "1   95.265629   95.382216   95.826262   96.173680   96.631926   96.796737   \n",
       "2  135.272322  135.456898  135.869125  136.077056  136.574979  136.889183   \n",
       "3  130.708637  130.976345  131.383418  131.471949  131.714286  131.882812   \n",
       "4  176.781431  177.375761  177.661580  178.271203  178.954915  179.452447   \n",
       "\n",
       "     Month 12  \n",
       "0  126.760821  \n",
       "1   96.992826  \n",
       "2  137.267993  \n",
       "3  132.340417  \n",
       "4  179.731554  "
      ]
     },
     "execution_count": 7,
     "metadata": {},
     "output_type": "execute_result"
    }
   ],
   "source": [
    "control.head() # watching the control data for the analysis "
   ]
  },
  {
   "cell_type": "code",
   "execution_count": 8,
   "metadata": {},
   "outputs": [
    {
     "data": {
      "text/html": [
       "<div>\n",
       "<style scoped>\n",
       "    .dataframe tbody tr th:only-of-type {\n",
       "        vertical-align: middle;\n",
       "    }\n",
       "\n",
       "    .dataframe tbody tr th {\n",
       "        vertical-align: top;\n",
       "    }\n",
       "\n",
       "    .dataframe thead th {\n",
       "        text-align: right;\n",
       "    }\n",
       "</style>\n",
       "<table border=\"1\" class=\"dataframe\">\n",
       "  <thead>\n",
       "    <tr style=\"text-align: right;\">\n",
       "      <th></th>\n",
       "      <th>Kid Name</th>\n",
       "      <th>Age(In Years)</th>\n",
       "      <th>State</th>\n",
       "      <th>Is Male?</th>\n",
       "      <th>Is Rural Area ?</th>\n",
       "      <th>Is Meat Consumer?</th>\n",
       "      <th>HouseHold Income per month</th>\n",
       "      <th>Base Height</th>\n",
       "      <th>Month 1</th>\n",
       "      <th>Month 2</th>\n",
       "      <th>Month 3</th>\n",
       "      <th>Month 4</th>\n",
       "      <th>Month 5</th>\n",
       "      <th>Month 6</th>\n",
       "      <th>Month 7</th>\n",
       "      <th>Month 8</th>\n",
       "      <th>Month 9</th>\n",
       "      <th>Month 10</th>\n",
       "      <th>Month 11</th>\n",
       "      <th>Month 12</th>\n",
       "    </tr>\n",
       "  </thead>\n",
       "  <tbody>\n",
       "    <tr>\n",
       "      <th>0</th>\n",
       "      <td>Test Kid 1</td>\n",
       "      <td>8</td>\n",
       "      <td>Andhra Pradesh</td>\n",
       "      <td>1</td>\n",
       "      <td>1</td>\n",
       "      <td>1</td>\n",
       "      <td>19246</td>\n",
       "      <td>121.558857</td>\n",
       "      <td>122.049170</td>\n",
       "      <td>122.706444</td>\n",
       "      <td>122.736235</td>\n",
       "      <td>123.276547</td>\n",
       "      <td>123.454646</td>\n",
       "      <td>124.174699</td>\n",
       "      <td>125.263655</td>\n",
       "      <td>125.678132</td>\n",
       "      <td>126.748863</td>\n",
       "      <td>126.784243</td>\n",
       "      <td>127.212689</td>\n",
       "      <td>127.835989</td>\n",
       "    </tr>\n",
       "    <tr>\n",
       "      <th>1</th>\n",
       "      <td>Test Kid 2</td>\n",
       "      <td>5</td>\n",
       "      <td>Andhra Pradesh</td>\n",
       "      <td>0</td>\n",
       "      <td>0</td>\n",
       "      <td>1</td>\n",
       "      <td>53567</td>\n",
       "      <td>116.674871</td>\n",
       "      <td>116.896417</td>\n",
       "      <td>117.894872</td>\n",
       "      <td>118.516988</td>\n",
       "      <td>119.349262</td>\n",
       "      <td>120.321181</td>\n",
       "      <td>120.746032</td>\n",
       "      <td>120.914844</td>\n",
       "      <td>121.966994</td>\n",
       "      <td>122.878387</td>\n",
       "      <td>124.001567</td>\n",
       "      <td>125.019515</td>\n",
       "      <td>125.048270</td>\n",
       "    </tr>\n",
       "    <tr>\n",
       "      <th>2</th>\n",
       "      <td>Test Kid 3</td>\n",
       "      <td>11</td>\n",
       "      <td>Andhra Pradesh</td>\n",
       "      <td>0</td>\n",
       "      <td>0</td>\n",
       "      <td>1</td>\n",
       "      <td>46239</td>\n",
       "      <td>136.984796</td>\n",
       "      <td>138.140627</td>\n",
       "      <td>139.262955</td>\n",
       "      <td>140.229455</td>\n",
       "      <td>140.816388</td>\n",
       "      <td>141.670945</td>\n",
       "      <td>142.427871</td>\n",
       "      <td>143.663812</td>\n",
       "      <td>144.817848</td>\n",
       "      <td>145.236808</td>\n",
       "      <td>146.531490</td>\n",
       "      <td>146.797446</td>\n",
       "      <td>147.443869</td>\n",
       "    </tr>\n",
       "    <tr>\n",
       "      <th>3</th>\n",
       "      <td>Test Kid 4</td>\n",
       "      <td>10</td>\n",
       "      <td>Andhra Pradesh</td>\n",
       "      <td>1</td>\n",
       "      <td>0</td>\n",
       "      <td>1</td>\n",
       "      <td>14763</td>\n",
       "      <td>138.322360</td>\n",
       "      <td>138.779055</td>\n",
       "      <td>138.937282</td>\n",
       "      <td>139.217609</td>\n",
       "      <td>139.543622</td>\n",
       "      <td>140.488609</td>\n",
       "      <td>141.516997</td>\n",
       "      <td>142.130476</td>\n",
       "      <td>142.215189</td>\n",
       "      <td>142.928736</td>\n",
       "      <td>143.586413</td>\n",
       "      <td>144.590368</td>\n",
       "      <td>145.044521</td>\n",
       "    </tr>\n",
       "    <tr>\n",
       "      <th>4</th>\n",
       "      <td>Test Kid 5</td>\n",
       "      <td>7</td>\n",
       "      <td>Andhra Pradesh</td>\n",
       "      <td>0</td>\n",
       "      <td>0</td>\n",
       "      <td>1</td>\n",
       "      <td>83715</td>\n",
       "      <td>119.125201</td>\n",
       "      <td>119.565419</td>\n",
       "      <td>120.780713</td>\n",
       "      <td>121.200321</td>\n",
       "      <td>121.741269</td>\n",
       "      <td>122.971887</td>\n",
       "      <td>123.625173</td>\n",
       "      <td>125.100819</td>\n",
       "      <td>126.772573</td>\n",
       "      <td>128.169628</td>\n",
       "      <td>129.496312</td>\n",
       "      <td>129.922589</td>\n",
       "      <td>130.768735</td>\n",
       "    </tr>\n",
       "  </tbody>\n",
       "</table>\n",
       "</div>"
      ],
      "text/plain": [
       "     Kid Name   Age(In Years)            State  Is Male?  Is Rural Area ?   \n",
       "0  Test Kid 1                8  Andhra Pradesh         1                1  \\\n",
       "1   Test Kid 2               5  Andhra Pradesh         0                0   \n",
       "2   Test Kid 3              11  Andhra Pradesh         0                0   \n",
       "3   Test Kid 4              10  Andhra Pradesh         1                0   \n",
       "4   Test Kid 5               7  Andhra Pradesh         0                0   \n",
       "\n",
       "   Is Meat Consumer?  HouseHold Income per month  Base Height     Month 1   \n",
       "0                  1                       19246   121.558857  122.049170  \\\n",
       "1                  1                       53567   116.674871  116.896417   \n",
       "2                  1                       46239   136.984796  138.140627   \n",
       "3                  1                       14763   138.322360  138.779055   \n",
       "4                  1                       83715   119.125201  119.565419   \n",
       "\n",
       "      Month 2     Month 3    Month 4      Month 5     Month 6    Month 7    \n",
       "0  122.706444  122.736235  123.276547  123.454646  124.174699  125.263655  \\\n",
       "1  117.894872  118.516988  119.349262  120.321181  120.746032  120.914844   \n",
       "2  139.262955  140.229455  140.816388  141.670945  142.427871  143.663812   \n",
       "3  138.937282  139.217609  139.543622  140.488609  141.516997  142.130476   \n",
       "4  120.780713  121.200321  121.741269  122.971887  123.625173  125.100819   \n",
       "\n",
       "      Month 8     Month 9    Month 10    Month 11    Month 12  \n",
       "0  125.678132  126.748863  126.784243  127.212689  127.835989  \n",
       "1  121.966994  122.878387  124.001567  125.019515  125.048270  \n",
       "2  144.817848  145.236808  146.531490  146.797446  147.443869  \n",
       "3  142.215189  142.928736  143.586413  144.590368  145.044521  \n",
       "4  126.772573  128.169628  129.496312  129.922589  130.768735  "
      ]
     },
     "execution_count": 8,
     "metadata": {},
     "output_type": "execute_result"
    }
   ],
   "source": [
    "test.head() #watching the test  data for the analysis "
   ]
  },
  {
   "cell_type": "code",
   "execution_count": 9,
   "metadata": {},
   "outputs": [
    {
     "data": {
      "text/html": [
       "<div>\n",
       "<style scoped>\n",
       "    .dataframe tbody tr th:only-of-type {\n",
       "        vertical-align: middle;\n",
       "    }\n",
       "\n",
       "    .dataframe tbody tr th {\n",
       "        vertical-align: top;\n",
       "    }\n",
       "\n",
       "    .dataframe thead th {\n",
       "        text-align: right;\n",
       "    }\n",
       "</style>\n",
       "<table border=\"1\" class=\"dataframe\">\n",
       "  <thead>\n",
       "    <tr style=\"text-align: right;\">\n",
       "      <th></th>\n",
       "      <th>Age(In Years)</th>\n",
       "      <th>Is Male?</th>\n",
       "      <th>Is Rural Area ?</th>\n",
       "      <th>Is Meat Consumer?</th>\n",
       "      <th>HouseHold Income per month</th>\n",
       "      <th>Base Height</th>\n",
       "      <th>Month 1</th>\n",
       "      <th>Month 2</th>\n",
       "      <th>Month 3</th>\n",
       "      <th>Month 4</th>\n",
       "      <th>Month 5</th>\n",
       "      <th>Month 6</th>\n",
       "      <th>Month 7</th>\n",
       "      <th>Month 8</th>\n",
       "      <th>Month 9</th>\n",
       "      <th>Month 10</th>\n",
       "      <th>Month 11</th>\n",
       "      <th>Month 12</th>\n",
       "    </tr>\n",
       "  </thead>\n",
       "  <tbody>\n",
       "    <tr>\n",
       "      <th>count</th>\n",
       "      <td>1000.000000</td>\n",
       "      <td>1000.000000</td>\n",
       "      <td>1000.000000</td>\n",
       "      <td>1000.000000</td>\n",
       "      <td>1000.000000</td>\n",
       "      <td>1000.000000</td>\n",
       "      <td>1000.000000</td>\n",
       "      <td>1000.000000</td>\n",
       "      <td>1000.000000</td>\n",
       "      <td>1000.000000</td>\n",
       "      <td>1000.000000</td>\n",
       "      <td>1000.000000</td>\n",
       "      <td>1000.000000</td>\n",
       "      <td>1000.000000</td>\n",
       "      <td>1000.000000</td>\n",
       "      <td>1000.000000</td>\n",
       "      <td>1000.000000</td>\n",
       "      <td>1000.000000</td>\n",
       "    </tr>\n",
       "    <tr>\n",
       "      <th>mean</th>\n",
       "      <td>9.377000</td>\n",
       "      <td>0.546000</td>\n",
       "      <td>0.678000</td>\n",
       "      <td>0.669000</td>\n",
       "      <td>48766.965000</td>\n",
       "      <td>128.563061</td>\n",
       "      <td>129.167963</td>\n",
       "      <td>129.753106</td>\n",
       "      <td>130.332640</td>\n",
       "      <td>130.929385</td>\n",
       "      <td>131.504526</td>\n",
       "      <td>132.084555</td>\n",
       "      <td>132.703323</td>\n",
       "      <td>133.302123</td>\n",
       "      <td>133.891871</td>\n",
       "      <td>134.467587</td>\n",
       "      <td>135.043577</td>\n",
       "      <td>135.639481</td>\n",
       "    </tr>\n",
       "    <tr>\n",
       "      <th>std</th>\n",
       "      <td>5.682355</td>\n",
       "      <td>0.498129</td>\n",
       "      <td>0.467477</td>\n",
       "      <td>0.470809</td>\n",
       "      <td>28938.270443</td>\n",
       "      <td>33.896671</td>\n",
       "      <td>33.911445</td>\n",
       "      <td>33.931515</td>\n",
       "      <td>33.940040</td>\n",
       "      <td>33.969698</td>\n",
       "      <td>33.969628</td>\n",
       "      <td>33.973736</td>\n",
       "      <td>33.978714</td>\n",
       "      <td>33.970258</td>\n",
       "      <td>33.958010</td>\n",
       "      <td>33.962182</td>\n",
       "      <td>33.951290</td>\n",
       "      <td>33.945775</td>\n",
       "    </tr>\n",
       "    <tr>\n",
       "      <th>min</th>\n",
       "      <td>0.000000</td>\n",
       "      <td>0.000000</td>\n",
       "      <td>0.000000</td>\n",
       "      <td>0.000000</td>\n",
       "      <td>146.000000</td>\n",
       "      <td>46.340986</td>\n",
       "      <td>47.267902</td>\n",
       "      <td>47.477751</td>\n",
       "      <td>48.266633</td>\n",
       "      <td>48.655681</td>\n",
       "      <td>48.766702</td>\n",
       "      <td>48.782015</td>\n",
       "      <td>49.424533</td>\n",
       "      <td>49.477696</td>\n",
       "      <td>49.900144</td>\n",
       "      <td>50.689456</td>\n",
       "      <td>51.436442</td>\n",
       "      <td>52.349519</td>\n",
       "    </tr>\n",
       "    <tr>\n",
       "      <th>25%</th>\n",
       "      <td>5.000000</td>\n",
       "      <td>0.000000</td>\n",
       "      <td>0.000000</td>\n",
       "      <td>0.000000</td>\n",
       "      <td>23784.250000</td>\n",
       "      <td>105.595084</td>\n",
       "      <td>106.122717</td>\n",
       "      <td>106.820820</td>\n",
       "      <td>107.509256</td>\n",
       "      <td>107.983984</td>\n",
       "      <td>108.769619</td>\n",
       "      <td>109.630581</td>\n",
       "      <td>110.309338</td>\n",
       "      <td>110.493193</td>\n",
       "      <td>110.887725</td>\n",
       "      <td>111.900959</td>\n",
       "      <td>112.199641</td>\n",
       "      <td>112.861241</td>\n",
       "    </tr>\n",
       "    <tr>\n",
       "      <th>50%</th>\n",
       "      <td>9.000000</td>\n",
       "      <td>1.000000</td>\n",
       "      <td>1.000000</td>\n",
       "      <td>1.000000</td>\n",
       "      <td>48348.000000</td>\n",
       "      <td>134.119640</td>\n",
       "      <td>134.521330</td>\n",
       "      <td>135.023324</td>\n",
       "      <td>135.664655</td>\n",
       "      <td>136.408532</td>\n",
       "      <td>136.928284</td>\n",
       "      <td>137.386773</td>\n",
       "      <td>138.213423</td>\n",
       "      <td>139.040068</td>\n",
       "      <td>139.563818</td>\n",
       "      <td>140.015678</td>\n",
       "      <td>140.693833</td>\n",
       "      <td>141.535797</td>\n",
       "    </tr>\n",
       "    <tr>\n",
       "      <th>75%</th>\n",
       "      <td>14.000000</td>\n",
       "      <td>1.000000</td>\n",
       "      <td>1.000000</td>\n",
       "      <td>1.000000</td>\n",
       "      <td>73005.250000</td>\n",
       "      <td>155.333289</td>\n",
       "      <td>156.167911</td>\n",
       "      <td>156.719643</td>\n",
       "      <td>157.402414</td>\n",
       "      <td>157.903460</td>\n",
       "      <td>158.590559</td>\n",
       "      <td>159.194754</td>\n",
       "      <td>159.698922</td>\n",
       "      <td>160.282019</td>\n",
       "      <td>160.805835</td>\n",
       "      <td>161.250216</td>\n",
       "      <td>162.104072</td>\n",
       "      <td>162.663764</td>\n",
       "    </tr>\n",
       "    <tr>\n",
       "      <th>max</th>\n",
       "      <td>19.000000</td>\n",
       "      <td>1.000000</td>\n",
       "      <td>1.000000</td>\n",
       "      <td>1.000000</td>\n",
       "      <td>99973.000000</td>\n",
       "      <td>187.388301</td>\n",
       "      <td>188.363021</td>\n",
       "      <td>188.454687</td>\n",
       "      <td>189.449854</td>\n",
       "      <td>189.760241</td>\n",
       "      <td>190.562352</td>\n",
       "      <td>191.585042</td>\n",
       "      <td>192.080551</td>\n",
       "      <td>192.515974</td>\n",
       "      <td>193.455514</td>\n",
       "      <td>194.257967</td>\n",
       "      <td>195.214111</td>\n",
       "      <td>195.414055</td>\n",
       "    </tr>\n",
       "  </tbody>\n",
       "</table>\n",
       "</div>"
      ],
      "text/plain": [
       "       Age(In Years)      Is Male?  Is Rural Area ?  Is Meat Consumer?   \n",
       "count     1000.000000  1000.000000      1000.000000        1000.000000  \\\n",
       "mean         9.377000     0.546000         0.678000           0.669000   \n",
       "std          5.682355     0.498129         0.467477           0.470809   \n",
       "min          0.000000     0.000000         0.000000           0.000000   \n",
       "25%          5.000000     0.000000         0.000000           0.000000   \n",
       "50%          9.000000     1.000000         1.000000           1.000000   \n",
       "75%         14.000000     1.000000         1.000000           1.000000   \n",
       "max         19.000000     1.000000         1.000000           1.000000   \n",
       "\n",
       "       HouseHold Income per month  Base Height      Month 1      Month 2   \n",
       "count                 1000.000000  1000.000000  1000.000000  1000.000000  \\\n",
       "mean                 48766.965000   128.563061   129.167963   129.753106   \n",
       "std                  28938.270443    33.896671    33.911445    33.931515   \n",
       "min                    146.000000    46.340986    47.267902    47.477751   \n",
       "25%                  23784.250000   105.595084   106.122717   106.820820   \n",
       "50%                  48348.000000   134.119640   134.521330   135.023324   \n",
       "75%                  73005.250000   155.333289   156.167911   156.719643   \n",
       "max                  99973.000000   187.388301   188.363021   188.454687   \n",
       "\n",
       "           Month 3     Month 4       Month 5      Month 6     Month 7    \n",
       "count  1000.000000  1000.000000  1000.000000  1000.000000  1000.000000  \\\n",
       "mean    130.332640   130.929385   131.504526   132.084555   132.703323   \n",
       "std      33.940040    33.969698    33.969628    33.973736    33.978714   \n",
       "min      48.266633    48.655681    48.766702    48.782015    49.424533   \n",
       "25%     107.509256   107.983984   108.769619   109.630581   110.309338   \n",
       "50%     135.664655   136.408532   136.928284   137.386773   138.213423   \n",
       "75%     157.402414   157.903460   158.590559   159.194754   159.698922   \n",
       "max     189.449854   189.760241   190.562352   191.585042   192.080551   \n",
       "\n",
       "           Month 8      Month 9     Month 10     Month 11     Month 12  \n",
       "count  1000.000000  1000.000000  1000.000000  1000.000000  1000.000000  \n",
       "mean    133.302123   133.891871   134.467587   135.043577   135.639481  \n",
       "std      33.970258    33.958010    33.962182    33.951290    33.945775  \n",
       "min      49.477696    49.900144    50.689456    51.436442    52.349519  \n",
       "25%     110.493193   110.887725   111.900959   112.199641   112.861241  \n",
       "50%     139.040068   139.563818   140.015678   140.693833   141.535797  \n",
       "75%     160.282019   160.805835   161.250216   162.104072   162.663764  \n",
       "max     192.515974   193.455514   194.257967   195.214111   195.414055  "
      ]
     },
     "execution_count": 9,
     "metadata": {},
     "output_type": "execute_result"
    }
   ],
   "source": [
    "test.describe() # checking the discrpitive analysis of the data "
   ]
  },
  {
   "cell_type": "code",
   "execution_count": 10,
   "metadata": {},
   "outputs": [
    {
     "data": {
      "text/html": [
       "<div>\n",
       "<style scoped>\n",
       "    .dataframe tbody tr th:only-of-type {\n",
       "        vertical-align: middle;\n",
       "    }\n",
       "\n",
       "    .dataframe tbody tr th {\n",
       "        vertical-align: top;\n",
       "    }\n",
       "\n",
       "    .dataframe thead th {\n",
       "        text-align: right;\n",
       "    }\n",
       "</style>\n",
       "<table border=\"1\" class=\"dataframe\">\n",
       "  <thead>\n",
       "    <tr style=\"text-align: right;\">\n",
       "      <th></th>\n",
       "      <th>Age(In Years)</th>\n",
       "      <th>Is Male?</th>\n",
       "      <th>Is Rural Area ?</th>\n",
       "      <th>Is Meat Consumer?</th>\n",
       "      <th>HouseHold Income per month</th>\n",
       "      <th>Base Height</th>\n",
       "      <th>Month 1</th>\n",
       "      <th>Month 2</th>\n",
       "      <th>Month 3</th>\n",
       "      <th>Month 4</th>\n",
       "      <th>Month 5</th>\n",
       "      <th>Month 6</th>\n",
       "      <th>Month 7</th>\n",
       "      <th>Month 8</th>\n",
       "      <th>Month 9</th>\n",
       "      <th>Month 10</th>\n",
       "      <th>Month 11</th>\n",
       "      <th>Month 12</th>\n",
       "    </tr>\n",
       "  </thead>\n",
       "  <tbody>\n",
       "    <tr>\n",
       "      <th>count</th>\n",
       "      <td>1000.000000</td>\n",
       "      <td>1000.000000</td>\n",
       "      <td>1000.000000</td>\n",
       "      <td>1000.000000</td>\n",
       "      <td>1000.000000</td>\n",
       "      <td>1000.000000</td>\n",
       "      <td>1000.000000</td>\n",
       "      <td>1000.000000</td>\n",
       "      <td>1000.000000</td>\n",
       "      <td>1000.000000</td>\n",
       "      <td>1000.000000</td>\n",
       "      <td>1000.000000</td>\n",
       "      <td>1000.000000</td>\n",
       "      <td>1000.000000</td>\n",
       "      <td>1000.000000</td>\n",
       "      <td>1000.000000</td>\n",
       "      <td>1000.000000</td>\n",
       "      <td>1000.000000</td>\n",
       "    </tr>\n",
       "    <tr>\n",
       "      <th>mean</th>\n",
       "      <td>9.395000</td>\n",
       "      <td>0.547000</td>\n",
       "      <td>0.679000</td>\n",
       "      <td>0.670000</td>\n",
       "      <td>49855.663552</td>\n",
       "      <td>128.931172</td>\n",
       "      <td>129.211895</td>\n",
       "      <td>129.484745</td>\n",
       "      <td>129.766803</td>\n",
       "      <td>130.045899</td>\n",
       "      <td>130.336885</td>\n",
       "      <td>130.626603</td>\n",
       "      <td>130.912630</td>\n",
       "      <td>131.201777</td>\n",
       "      <td>131.479068</td>\n",
       "      <td>131.766920</td>\n",
       "      <td>132.050273</td>\n",
       "      <td>132.346809</td>\n",
       "    </tr>\n",
       "    <tr>\n",
       "      <th>std</th>\n",
       "      <td>5.698548</td>\n",
       "      <td>0.498035</td>\n",
       "      <td>0.467094</td>\n",
       "      <td>0.470448</td>\n",
       "      <td>28519.603811</td>\n",
       "      <td>33.741252</td>\n",
       "      <td>33.735227</td>\n",
       "      <td>33.731938</td>\n",
       "      <td>33.729463</td>\n",
       "      <td>33.717980</td>\n",
       "      <td>33.710289</td>\n",
       "      <td>33.701152</td>\n",
       "      <td>33.685986</td>\n",
       "      <td>33.672711</td>\n",
       "      <td>33.672524</td>\n",
       "      <td>33.663518</td>\n",
       "      <td>33.652860</td>\n",
       "      <td>33.654855</td>\n",
       "    </tr>\n",
       "    <tr>\n",
       "      <th>min</th>\n",
       "      <td>0.000000</td>\n",
       "      <td>0.000000</td>\n",
       "      <td>0.000000</td>\n",
       "      <td>0.000000</td>\n",
       "      <td>55.450327</td>\n",
       "      <td>46.336582</td>\n",
       "      <td>46.573258</td>\n",
       "      <td>46.800261</td>\n",
       "      <td>47.016770</td>\n",
       "      <td>47.389648</td>\n",
       "      <td>47.536539</td>\n",
       "      <td>47.595594</td>\n",
       "      <td>48.036373</td>\n",
       "      <td>48.116016</td>\n",
       "      <td>48.194574</td>\n",
       "      <td>48.501643</td>\n",
       "      <td>48.872603</td>\n",
       "      <td>49.290415</td>\n",
       "    </tr>\n",
       "    <tr>\n",
       "      <th>25%</th>\n",
       "      <td>4.000000</td>\n",
       "      <td>0.000000</td>\n",
       "      <td>0.000000</td>\n",
       "      <td>0.000000</td>\n",
       "      <td>26860.283173</td>\n",
       "      <td>104.864277</td>\n",
       "      <td>105.116491</td>\n",
       "      <td>105.206477</td>\n",
       "      <td>105.572491</td>\n",
       "      <td>105.668113</td>\n",
       "      <td>105.947922</td>\n",
       "      <td>106.153719</td>\n",
       "      <td>106.431965</td>\n",
       "      <td>106.794317</td>\n",
       "      <td>107.180352</td>\n",
       "      <td>107.721768</td>\n",
       "      <td>108.148743</td>\n",
       "      <td>108.260958</td>\n",
       "    </tr>\n",
       "    <tr>\n",
       "      <th>50%</th>\n",
       "      <td>9.000000</td>\n",
       "      <td>1.000000</td>\n",
       "      <td>1.000000</td>\n",
       "      <td>1.000000</td>\n",
       "      <td>48817.356352</td>\n",
       "      <td>133.995715</td>\n",
       "      <td>134.149507</td>\n",
       "      <td>134.448934</td>\n",
       "      <td>134.768222</td>\n",
       "      <td>135.046841</td>\n",
       "      <td>135.275969</td>\n",
       "      <td>135.494503</td>\n",
       "      <td>135.721611</td>\n",
       "      <td>135.827090</td>\n",
       "      <td>136.003566</td>\n",
       "      <td>136.246836</td>\n",
       "      <td>136.485410</td>\n",
       "      <td>136.861377</td>\n",
       "    </tr>\n",
       "    <tr>\n",
       "      <th>75%</th>\n",
       "      <td>14.000000</td>\n",
       "      <td>1.000000</td>\n",
       "      <td>1.000000</td>\n",
       "      <td>1.000000</td>\n",
       "      <td>74660.701799</td>\n",
       "      <td>156.238377</td>\n",
       "      <td>156.516601</td>\n",
       "      <td>156.667966</td>\n",
       "      <td>157.044925</td>\n",
       "      <td>157.430108</td>\n",
       "      <td>157.721327</td>\n",
       "      <td>158.126623</td>\n",
       "      <td>158.367061</td>\n",
       "      <td>158.623173</td>\n",
       "      <td>158.954119</td>\n",
       "      <td>159.289053</td>\n",
       "      <td>159.543231</td>\n",
       "      <td>159.850808</td>\n",
       "    </tr>\n",
       "    <tr>\n",
       "      <th>max</th>\n",
       "      <td>19.000000</td>\n",
       "      <td>1.000000</td>\n",
       "      <td>1.000000</td>\n",
       "      <td>1.000000</td>\n",
       "      <td>99969.350301</td>\n",
       "      <td>187.388301</td>\n",
       "      <td>187.844677</td>\n",
       "      <td>188.116749</td>\n",
       "      <td>188.466879</td>\n",
       "      <td>188.837158</td>\n",
       "      <td>188.923636</td>\n",
       "      <td>189.064402</td>\n",
       "      <td>189.538947</td>\n",
       "      <td>189.995397</td>\n",
       "      <td>190.466347</td>\n",
       "      <td>190.803148</td>\n",
       "      <td>190.852662</td>\n",
       "      <td>191.319627</td>\n",
       "    </tr>\n",
       "  </tbody>\n",
       "</table>\n",
       "</div>"
      ],
      "text/plain": [
       "       Age(In Years)      Is Male?  Is Rural Area ?  Is Meat Consumer?   \n",
       "count     1000.000000  1000.000000      1000.000000        1000.000000  \\\n",
       "mean         9.395000     0.547000         0.679000           0.670000   \n",
       "std          5.698548     0.498035         0.467094           0.470448   \n",
       "min          0.000000     0.000000         0.000000           0.000000   \n",
       "25%          4.000000     0.000000         0.000000           0.000000   \n",
       "50%          9.000000     1.000000         1.000000           1.000000   \n",
       "75%         14.000000     1.000000         1.000000           1.000000   \n",
       "max         19.000000     1.000000         1.000000           1.000000   \n",
       "\n",
       "       HouseHold Income per month  Base Height      Month 1      Month 2   \n",
       "count                 1000.000000  1000.000000  1000.000000  1000.000000  \\\n",
       "mean                 49855.663552   128.931172   129.211895   129.484745   \n",
       "std                  28519.603811    33.741252    33.735227    33.731938   \n",
       "min                     55.450327    46.336582    46.573258    46.800261   \n",
       "25%                  26860.283173   104.864277   105.116491   105.206477   \n",
       "50%                  48817.356352   133.995715   134.149507   134.448934   \n",
       "75%                  74660.701799   156.238377   156.516601   156.667966   \n",
       "max                  99969.350301   187.388301   187.844677   188.116749   \n",
       "\n",
       "           Month 3     Month 4       Month 5      Month 6     Month 7    \n",
       "count  1000.000000  1000.000000  1000.000000  1000.000000  1000.000000  \\\n",
       "mean    129.766803   130.045899   130.336885   130.626603   130.912630   \n",
       "std      33.729463    33.717980    33.710289    33.701152    33.685986   \n",
       "min      47.016770    47.389648    47.536539    47.595594    48.036373   \n",
       "25%     105.572491   105.668113   105.947922   106.153719   106.431965   \n",
       "50%     134.768222   135.046841   135.275969   135.494503   135.721611   \n",
       "75%     157.044925   157.430108   157.721327   158.126623   158.367061   \n",
       "max     188.466879   188.837158   188.923636   189.064402   189.538947   \n",
       "\n",
       "           Month 8      Month 9     Month 10     Month 11     Month 12  \n",
       "count  1000.000000  1000.000000  1000.000000  1000.000000  1000.000000  \n",
       "mean    131.201777   131.479068   131.766920   132.050273   132.346809  \n",
       "std      33.672711    33.672524    33.663518    33.652860    33.654855  \n",
       "min      48.116016    48.194574    48.501643    48.872603    49.290415  \n",
       "25%     106.794317   107.180352   107.721768   108.148743   108.260958  \n",
       "50%     135.827090   136.003566   136.246836   136.485410   136.861377  \n",
       "75%     158.623173   158.954119   159.289053   159.543231   159.850808  \n",
       "max     189.995397   190.466347   190.803148   190.852662   191.319627  "
      ]
     },
     "execution_count": 10,
     "metadata": {},
     "output_type": "execute_result"
    }
   ],
   "source": [
    "control.describe() # checking the discrpitive analysis of the data "
   ]
  },
  {
   "cell_type": "code",
   "execution_count": 32,
   "metadata": {},
   "outputs": [
    {
     "data": {
      "text/plain": [
       "<Axes: ylabel='Frequency'>"
      ]
     },
     "execution_count": 32,
     "metadata": {},
     "output_type": "execute_result"
    },
    {
     "data": {
      "image/png": "[encoded data removed]",
      "text/plain": [
       "<Figure size 640x480 with 1 Axes>"
      ]
     },
     "metadata": {},
     "output_type": "display_data"
    }
   ],
   "source": [
    "control['Age(In Years) '].plot(kind='hist') # checking the age distribution"
   ]
  },
  {
   "cell_type": "code",
   "execution_count": 33,
   "metadata": {},
   "outputs": [
    {
     "data": {
      "text/plain": [
       "<Axes: ylabel='Frequency'>"
      ]
     },
     "execution_count": 33,
     "metadata": {},
     "output_type": "execute_result"
    },
    {
     "data": {
      "image/png": "[encoded data removed]",
      "text/plain": [
       "<Figure size 640x480 with 1 Axes>"
      ]
     },
     "metadata": {},
     "output_type": "display_data"
    }
   ],
   "source": [
    "control['Age(In Years) '].plot(kind='hist') # checking the age distribution"
   ]
  },
  {
   "cell_type": "code",
   "execution_count": 11,
   "metadata": {},
   "outputs": [
    {
     "data": {
      "image/png": "[encoded data removed]",
      "text/plain": [
       "<Figure size 640x480 with 2 Axes>"
      ]
     },
     "metadata": {},
     "output_type": "display_data"
    }
   ],
   "source": [
    "plt.style.use('ggplot')\n",
    "fig, axs = plt.subplots(1, 2)\n",
    "\n",
    "test['Is Male?'].value_counts().plot(kind='bar', ax=axs[0], title='Test (Male vs Female)', sharex=True, color=['pink', 'blue'])\n",
    "control['Is Male?'].value_counts().plot(kind='bar', ax=axs[1], title='Control (Male vs Female)', color=['pink', 'blue'])\n",
    "axs[0].set_xticklabels(['Female', 'Male'])\n",
    "axs[1].set_xticklabels(['Female', 'Male'])\n",
    "\n",
    "plt.show()\n",
    "\n",
    "# graph for the number of male female in the control and test data "
   ]
  },
  {
   "cell_type": "code",
   "execution_count": 12,
   "metadata": {},
   "outputs": [
    {
     "data": {
      "image/png": "[encoded data removed]",
      "text/plain": [
       "<Figure size 640x480 with 2 Axes>"
      ]
     },
     "metadata": {},
     "output_type": "display_data"
    }
   ],
   "source": [
    "plt.style.use('ggplot')\n",
    "fig, axs = plt.subplots(1, 2)\n",
    "\n",
    "test['Is Rural Area ?'].value_counts().plot(kind='bar', ax=axs[0], title='Test (Rural Vs Non_Rural)', sharex=True, color=['blue', 'green'])\n",
    "control['Is Rural Area ?'].value_counts().plot(kind='bar', ax=axs[1], title='Control (Rural vs Non Rural)', color=['blue', 'green'])\n",
    "axs[0].set_xticklabels(['Rural', 'Non_rural'])\n",
    "axs[1].set_xticklabels(['Rural', 'Non_rural'])\n",
    "\n",
    "plt.show()\n",
    "# bar graph showing number of rural and non rural candidate "
   ]
  },
  {
   "cell_type": "code",
   "execution_count": 13,
   "metadata": {},
   "outputs": [
    {
     "data": {
      "text/plain": [
       "[Text(0, 0, 'Meat'), Text(1, 0, 'Veg')]"
      ]
     },
     "execution_count": 13,
     "metadata": {},
     "output_type": "execute_result"
    },
    {
     "data": {
      "image/png": "[encoded data removed]",
      "text/plain": [
       "<Figure size 640x480 with 2 Axes>"
      ]
     },
     "metadata": {},
     "output_type": "display_data"
    }
   ],
   "source": [
    "plt.style.use('ggplot')\n",
    "fig, axs = plt.subplots(1, 2)\n",
    "\n",
    "test['Is Meat Consumer?'].value_counts().plot(kind='bar', ax=axs[0], title='Test (Rural Vs Non_Rural)', sharex=True, color=['blue', 'green'])\n",
    "control['Is Meat Consumer?'].value_counts().plot(kind='bar', ax=axs[1], title='Control (Rural vs Non Rural)', color=['blue', 'green'])\n",
    "axs[0].set_xticklabels(['Meat', 'Veg'])\n",
    "axs[1].set_xticklabels(['Meat', 'Veg'])"
   ]
  },
  {
   "cell_type": "code",
   "execution_count": 14,
   "metadata": {},
   "outputs": [
    {
     "data": {
      "text/plain": [
       "<Axes: >"
      ]
     },
     "execution_count": 14,
     "metadata": {},
     "output_type": "execute_result"
    },
    {
     "data": {
      "image/png": "[encoded data removed]",
      "text/plain": [
       "<Figure size 640x480 with 1 Axes>"
      ]
     },
     "metadata": {},
     "output_type": "display_data"
    }
   ],
   "source": [
    "test.iloc[:,8:].mean().plot(legend=True)\n",
    "control.iloc[:,8:].mean().plot(legend='Control')\n",
    "\n",
    "\n",
    "# average mothly change for control and test data suggesting increase of hight through vizualizton further we wiil try to prove these with the hypothesis testiong "
   ]
  },
  {
   "attachments": {},
   "cell_type": "markdown",
   "metadata": {},
   "source": [
    "Taking a Significance level  of .05 for all the test performed under "
   ]
  },
  {
   "attachments": {},
   "cell_type": "markdown",
   "metadata": {},
   "source": [
    "Q---Can the CEO market this product across India that BlueBull is a height enhancer ?"
   ]
  },
  {
   "cell_type": "code",
   "execution_count": 15,
   "metadata": {},
   "outputs": [],
   "source": [
    "from scipy.stats import ttest_ind    # libary for statistical test needs to be installed "
   ]
  },
  {
   "cell_type": "code",
   "execution_count": 16,
   "metadata": {},
   "outputs": [],
   "source": [
    "t_stat,p_value = ttest_ind(test.iloc[:,8:],control.iloc[:,8:]) # using ilock to select all the rows and month wise column in the data set and ussing indepentend 2 sample test "
   ]
  },
  {
   "cell_type": "code",
   "execution_count": 17,
   "metadata": {},
   "outputs": [
    {
     "name": "stdout",
     "output_type": "stream",
     "text": [
      "P_values [0.9768326  0.85923634 0.70848301 0.55947655 0.44047512 0.33544047\n",
      " 0.23675002 0.16510755 0.11076405 0.0742585  0.04782868 0.02950364] \n",
      "\n",
      "T_stat [-0.02904375  0.17736924  0.37394756  0.58371709  0.77154514  0.96344574\n",
      "  1.18350458  1.38860539  1.59547569  1.78595289  1.9801054   2.17825479]\n"
     ]
    }
   ],
   "source": [
    "print('P_values',p_value,'\\n')\n",
    "print('T_stat',t_stat)"
   ]
  },
  {
   "cell_type": "code",
   "execution_count": 18,
   "metadata": {},
   "outputs": [
    {
     "name": "stdout",
     "output_type": "stream",
     "text": [
      "Significant Months (p < 0.05): [11, 12] \n",
      "\n",
      "Null hypothesis (H0): There is no significant difference in height increase between BlueBull consumers and non-consumers.\n",
      "\n",
      "Alternative hypothesis (H1): BlueBull consumers have a significant increase in height compared to non-consumers.\n"
     ]
    }
   ],
   "source": [
    "\n",
    "significant_months = [i+1 for i, p in enumerate(p_value) if p < 0.05]\n",
    "\n",
    "print(\"Significant Months (p < 0.05):\", significant_months,'\\n')\n",
    "\n",
    "print('Null hypothesis (H0): There is no significant difference in height increase between BlueBull consumers and non-consumers.\\n')\n",
    "print('Alternative hypothesis (H1): BlueBull consumers have a significant increase in height compared to non-consumers.')\n"
   ]
  },
  {
   "attachments": {},
   "cell_type": "markdown",
   "metadata": {},
   "source": [
    "conclusion \n",
    "Based on the p-values, it appears that for the 11th and 12th months, the p-values are less than 0.05, indicating a significant difference in height increase between the BlueBull consumers and non-consumers during these months. This suggests that BlueBull consumption may have a positive effect on height enhancement for children compared to those who do not consume BlueBull."
   ]
  },
  {
   "attachments": {},
   "cell_type": "markdown",
   "metadata": {},
   "source": [
    "Q--- In which states of India can the marketing be done by BlueBull based on the\n",
    "experiment?\n"
   ]
  },
  {
   "cell_type": "code",
   "execution_count": 19,
   "metadata": {},
   "outputs": [
    {
     "name": "stdout",
     "output_type": "stream",
     "text": [
      "States with Significant Height Growth (p < 0.05): \n",
      " ['Andhra Pradesh', 'Arunachal Pradesh', 'Chandigarh', 'Goa', 'Gujarat', 'Himachal Pradesh', 'Jammu & Kashmir ', 'Jharkhand', 'Madhya Pradesh', 'Manipur', 'Megahalaya', 'Mizoram', 'Naga Land', 'Odisha', 'Punjab', 'Sikkim', 'Tripura', 'Utharakhand', 'Uttar Pradesh', 'West Bengal'] \n",
      "\n",
      "Null hypothesis (H0): There is no significant difference in height increase between BlueBull consumers and non-consumers.\n",
      "\n",
      "Alternative hypothesis (H1): BlueBull consumers have a significant increase in height compared to non-consumers.\n"
     ]
    }
   ],
   "source": [
    "\n",
    "# Get the unique states from the dataset\n",
    "states = test['State'].unique()\n",
    "\n",
    "significant_states = []\n",
    "\n",
    "# Perform t-test for each state\n",
    "for state in states:\n",
    "    test_group_state = test[test['State'] == state].iloc[:, 8:20]\n",
    "    control_group_state = control[control['State'] == state].iloc[:, 8:20]\n",
    "    \n",
    "    t_statistic, p_value = ttest_ind(test_group_state.values.flatten(), control_group_state.values.flatten())\n",
    "    \n",
    "    if p_value < 0.05:  # Adjust the significance level as necessary\n",
    "        significant_states.append(state)\n",
    "\n",
    "print(\"States with Significant Height Growth (p < 0.05):\",'\\n', significant_states,'\\n')\n",
    "\n",
    "print('Null hypothesis (H0): There is no significant difference in height increase between BlueBull consumers and non-consumers.\\n')\n",
    "print('Alternative hypothesis (H1): BlueBull consumers have a significant increase in height compared to non-consumers.')\n"
   ]
  },
  {
   "attachments": {},
   "cell_type": "markdown",
   "metadata": {},
   "source": [
    "coclusion ----. These states can be considered for targeted marketing efforts.\n",
    "States with Significant Height Growth (p < 0.05): \n",
    " ['Andhra Pradesh', 'Arunachal Pradesh', 'Chandigarh', 'Goa', 'Gujarat', 'Himachal Pradesh', 'Jammu & Kashmir ', 'Jharkhand', 'Madhya Pradesh', 'Manipur', 'Megahalaya', 'Mizoram', 'Naga Land', 'Odisha', 'Punjab', 'Sikkim', 'Tripura', 'Utharakhand', 'Uttar Pradesh', 'West Bengal'] \n"
   ]
  },
  {
   "attachments": {},
   "cell_type": "markdown",
   "metadata": {},
   "source": [
    "Q --- Can the CEO market this product across gender and age groups"
   ]
  },
  {
   "cell_type": "code",
   "execution_count": 27,
   "metadata": {},
   "outputs": [
    {
     "name": "stdout",
     "output_type": "stream",
     "text": [
      "Significant Gender Groups (p < 0.05): [1, 0] \n",
      "\n",
      "Null hypothesis (H0): There is no significant difference in height increase between BlueBull consumers and non-consumers.\n",
      "\n",
      "Alternative hypothesis (H1): BlueBull consumers have a significant increase in height compared to non-consumers.\n",
      "0.015854956876571274\n"
     ]
    }
   ],
   "source": [
    "\n",
    "# Get the unique gender values from the dataset\n",
    "genders = test['Is Male?'].unique()\n",
    "\n",
    "significant_gender_groups = []\n",
    "\n",
    "# Perform t-test for each gender group\n",
    "for gender in genders:\n",
    "    test_group_gender = test[test['Is Male?'] == gender].iloc[:, 8:20]\n",
    "    control_group_gender = control[control['Is Male?'] == gender].iloc[:, 8:20]\n",
    "\n",
    "    t_statistic, p_value = ttest_ind(test_group_gender.values.flatten(), control_group_gender.values.flatten()) # flatten() used to return a copy of a given array in such a way that it is collapsed into one dimension.\n",
    "\n",
    "    if p_value < 0.05:  # Adjust the significance level as necessary\n",
    "        significant_gender_groups.append(gender)\n",
    "\n",
    "print(\"Significant Gender Groups (p < 0.05):\",significant_gender_groups,'\\n')\n",
    "\n",
    "\n",
    "print('Null hypothesis (H0): There is no significant difference in height increase between BlueBull consumers and non-consumers.\\n')\n",
    "print('Alternative hypothesis (H1): BlueBull consumers have a significant increase in height compared to non-consumers.')\n",
    "print(p_value)\n"
   ]
  },
  {
   "cell_type": "code",
   "execution_count": 21,
   "metadata": {},
   "outputs": [
    {
     "name": "stdout",
     "output_type": "stream",
     "text": [
      "Significant Age Groups (p < 0.05): [8, 5, 11, 10, 7, 0, 15, 1, 2, 14, 6, 19, 3, 12, 4, 13, 9] \n",
      "\n",
      "Null hypothesis (H0): There is no significant difference in height increase between BlueBull consumers and non-consumers.\n",
      "\n",
      "Alternative hypothesis (H1): BlueBull consumers have a significant increase in height compared to non-consumers.\n"
     ]
    }
   ],
   "source": [
    "\n",
    "\n",
    "# Get the unique age groups from the dataset\n",
    "age_groups = test['Age(In Years) ' ].unique()\n",
    "\n",
    "significant_age_groups = []\n",
    "\n",
    "# Perform t-test for each age group\n",
    "for age_group in age_groups:\n",
    "    test_group_age = test[test['Age(In Years) '] == age_group].iloc[:, 8:20]\n",
    "    control_group_age = control[control['Age(In Years) '] == age_group].iloc[:, 8:20]\n",
    "\n",
    "    t_statistic, p_value = ttest_ind(test_group_age.values.flatten(), control_group_age.values.flatten())\n",
    "\n",
    "    if p_value < 0.05:  # Adjust the significance level as necessary\n",
    "        significant_age_groups.append(age_group)\n",
    "\n",
    "print(\"Significant Age Groups (p < 0.05):\", significant_age_groups,'\\n')\n",
    "\n",
    "print('Null hypothesis (H0): There is no significant difference in height increase between BlueBull  test ages  and control age.\\n')\n",
    "print('Alternative hypothesis (H1): BlueBull consumers have a significant increase in height test age and control age.')\n",
    "\n"
   ]
  },
  {
   "attachments": {},
   "cell_type": "markdown",
   "metadata": {},
   "source": [
    "conclusion --- Yes the ceo can market the product for male and female both as it increase the hight for both \n",
    "\n",
    "\n",
    "and we can say it it can market in the age group Significant Age Groups (p < 0.05): [8, 5, 11, 10, 7, 0, 15, 1, 2, 14, 6, 19, 3, 12, 4, 13, 9] "
   ]
  },
  {
   "attachments": {},
   "cell_type": "markdown",
   "metadata": {},
   "source": [
    "Q---● 12 months is really a long time to conclude an experiment and is there a faster way to\n",
    "conclude the experiment for this marketing problem"
   ]
  },
  {
   "cell_type": "code",
   "execution_count": 28,
   "metadata": {},
   "outputs": [
    {
     "name": "stdout",
     "output_type": "stream",
     "text": [
      "Significant Months (p < 0.05): [12] \n",
      "\n",
      "Null hypothesis (H0): There is no significant difference in height increase between BlueBull consumers and non-consumers.\n",
      "\n",
      "Alternative hypothesis (H1): BlueBull consumers have a significant increase in height compared to non-consumers.\n"
     ]
    }
   ],
   "source": [
    "\n",
    "\n",
    "# Define the months for analysis\n",
    "months = [3, 6, 9, 12]\n",
    "\n",
    "significant_months = []\n",
    "\n",
    "# Perform t-test for each month\n",
    "for month in months:\n",
    "    test_height = test['Month {}'.format(month)]\n",
    "    control_height = control['Month {}'.format(month)]\n",
    "\n",
    "    t_statistic, p_value = ttest_ind(test_height, control_height)\n",
    "\n",
    "    if p_value < 0.05:  # Adjust the significance level as necessary\n",
    "        significant_months.append(month)\n",
    "\n",
    "print(\"Significant Months (p < 0.05):\", significant_months,'\\n')\n",
    "print('Null hypothesis (H0): There is no significant difference in height increase between BlueBull consumers and non-consumers.\\n')\n",
    "print('Alternative hypothesis (H1): BlueBull consumers have a significant increase in height compared to non-consumers.')\n",
    "\n"
   ]
  },
  {
   "attachments": {},
   "cell_type": "markdown",
   "metadata": {},
   "source": [
    "Conclusion --- we cna use the data for the quaterly but they donot suggest it heigh enhance so we have to take it for 12 month only as it most significant at the 11 and 12 moth as p value is less than .05"
   ]
  },
  {
   "attachments": {},
   "cell_type": "markdown",
   "metadata": {},
   "source": [
    "q--In what categories could we absolutely say that BlueBull works as a height enhancer and \n",
    "in what other categories can we say that BlueBull doesn’t as a height enhancer and in\n",
    "what categories do we need to investigate further.?"
   ]
  },
  {
   "cell_type": "code",
   "execution_count": 23,
   "metadata": {},
   "outputs": [
    {
     "name": "stdout",
     "output_type": "stream",
     "text": [
      "Residence Category:\n",
      "Rural - p-value: 0.1215169926100148\n",
      "Urban - p-value: 0.11244546911609975\n"
     ]
    }
   ],
   "source": [
    "# Calculate height growth for each group\n",
    "test_rural = test[test['Is Rural Area ?']  == 1]['Month 12']\n",
    "test_urban = test[test['Is Rural Area ?']  == 0]['Month 12']\n",
    "control_rural = control[control['Is Rural Area ?']  == 1]['Month 12']\n",
    "control_urban = control[control['Is Rural Area ?']  == 0]['Month 12']\n",
    "\n",
    "# Perform t-tests for rural and urban groups\n",
    "tstat_rural, pvalue_rural = ttest_ind(test_rural, control_rural)\n",
    "tstat_urban, pvalue_urban = ttest_ind(test_urban, control_urban)\n",
    "\n",
    "# Print the t-test results\n",
    "print(\"Residence Category:\")\n",
    "print(\"Rural - p-value:\", pvalue_rural)\n",
    "print(\"Urban - p-value:\", pvalue_urban)\n",
    "\n",
    "\n",
    "\n"
   ]
  },
  {
   "cell_type": "code",
   "execution_count": 24,
   "metadata": {},
   "outputs": [
    {
     "name": "stdout",
     "output_type": "stream",
     "text": [
      "Meat Consumption Category:\n",
      "Meat Consumer - p-value: 0.11866559328437674\n",
      "Vegetarian Consumer - p-value: 0.11626203666064101\n"
     ]
    }
   ],
   "source": [
    "# Calculate height growth for each group\n",
    "test_meat = test[test['Is Meat Consumer?'] == 1]['Month 12']\n",
    "test_vegetarian = test[test['Is Meat Consumer?'] == 0]['Month 12']\n",
    "control_meat = control[control['Is Meat Consumer?'] == 1]['Month 12']\n",
    "control_vegetarian = control[control['Is Meat Consumer?'] == 0]['Month 12']\n",
    "\n",
    "# Perform t-tests for meat-consuming and vegetarian groups\n",
    "tstat_meat, pvalue_meat = ttest_ind(test_meat, control_meat)\n",
    "tstat_vegetarian, pvalue_vegetarian = ttest_ind(test_vegetarian, control_vegetarian)\n",
    "\n",
    "# Print the t-test results\n",
    "print(\"Meat Consumption Category:\")\n",
    "print(\"Meat Consumer - p-value:\", pvalue_meat)\n",
    "print(\"Vegetarian Consumer - p-value:\", pvalue_vegetarian)\n"
   ]
  },
  {
   "cell_type": "code",
   "execution_count": 25,
   "metadata": {},
   "outputs": [
    {
     "data": {
      "text/plain": [
       "<Axes: >"
      ]
     },
     "execution_count": 25,
     "metadata": {},
     "output_type": "execute_result"
    },
    {
     "data": {
      "image/png": "[encoded data removed]",
      "text/plain": [
       "<Figure size 640x480 with 1 Axes>"
      ]
     },
     "metadata": {},
     "output_type": "display_data"
    }
   ],
   "source": [
    "sns.boxenplot(control['HouseHold Income per month']) # To check the distribution  of data "
   ]
  },
  {
   "cell_type": "code",
   "execution_count": 26,
   "metadata": {},
   "outputs": [
    {
     "name": "stdout",
     "output_type": "stream",
     "text": [
      "Household Income Category:\n",
      "Low Income - p-value: 0.002184499912911962\n",
      "Medium Income - p-value: 0.2177499538224698\n",
      "High Income - p-value: 0.17962379406425943\n"
     ]
    }
   ],
   "source": [
    "# Calculate height growth for each income group\n",
    "test_low_income = test[test['HouseHold Income per month'] < 20000]['Month 12']\n",
    "test_medium_income = test[(test['HouseHold Income per month'] >= 20000) & (test['HouseHold Income per month'] < 50000)]['Month 12']\n",
    "test_high_income = test[test['HouseHold Income per month'] >= 80000]['Month 12']\n",
    "control_low_income = control[control['HouseHold Income per month'] < 20000]['Month 12']\n",
    "control_medium_income = control[(control['HouseHold Income per month'] >= 20000) & (control['HouseHold Income per month'] < 50000)]['Month 12']\n",
    "control_high_income = control[control['HouseHold Income per month'] >= 80000]['Month 12']\n",
    "\n",
    "# Perform t-tests for low, medium, and high-income groups\n",
    "tstat_low_income, pvalue_low_income = ttest_ind(test_low_income, control_low_income)\n",
    "tstat_medium_income, pvalue_medium_income = ttest_ind(test_medium_income, control_medium_income)\n",
    "tstat_high_income, pvalue_high_income = ttest_ind(test_high_income, control_high_income)\n",
    "\n",
    "# Print the t-test results\n",
    "print(\"Household Income Category:\")\n",
    "print(\"Low Income - p-value:\", pvalue_low_income)\n",
    "print(\"Medium Income - p-value:\", pvalue_medium_income)\n",
    "print(\"High Income - p-value:\", pvalue_high_income)\n",
    "\n",
    "#A p-value less than 0.05 indicates a significant difference in height growth between BlueBull consumers and non-consumers within that category, suggesting that BlueBull works as a height enhancer. in the low household icome categorey as they might habve not be abble to have proper nutrinet through food "
   ]
  },
  {
   "attachments": {},
   "cell_type": "markdown",
   "metadata": {},
   "source": [
    "'''In what categories could we absolutely say that BlueBull works as a height enhancer and\n",
    "in what other categories can we say that BlueBull doesn’t as a height enhancer and in\n",
    "what categories do we need to investigate further.'''"
   ]
  },
  {
   "attachments": {},
   "cell_type": "markdown",
   "metadata": {},
   "source": [
    "Conclusion \n",
    "\n",
    "\n",
    "I would absolutely suggest bluebull work as height ehancer is low income house house hold category \n",
    "\n",
    "I would suggest bluebull does not work as hieght ehancer as per residence categorey \n",
    "\n",
    "i would suggest to reseach more on the meat conuming candidate |"
   ]
  },
  {
   "attachments": {},
   "cell_type": "markdown",
   "metadata": {},
   "source": [
    "## Conclusion"
   ]
  },
  {
   "attachments": {},
   "cell_type": "markdown",
   "metadata": {},
   "source": [
    "The t-test results show that between the test group (BlueBull users) and the control group (non-consumers), there was a significant difference in height growth in the 11th and 12th months. This suggests that consuming BlueBull may help children grow taller.\n",
    "\n",
    "\n",
    "The CEO can think of selling BlueBull as a height enhancer, emphasising the advantages seen in the 11th and 12th months, based on the observed height gain in the test group. However, it's crucial to follow advertising laws and refrain from making inflated promises.\n",
    "\n",
    "\n",
    "Consumption of BlueBull seems to have a positive effect on height growth in both sexes. The CEO can therefore market the product to both men and women. For age groups, more research is necessary to determine the impact on various age groups. This will make it easier to identify the precise age groups that gain the most from consuming BlueBull.\n",
    "\n",
    " \n",
    "The impact of other variables, including residence (rural/urban), meat consumption, and household income, on the height-enhancing effect of BlueBull can be further examined through analysis. \n",
    "\n",
    "It is advised to monitor the long-term effects of BlueBull consumption on height growth even though a 12-month period was used for the current analysis. This will give a more thorough understanding of how the product will affect consumers over time.\n",
    " \n",
    "\n",
    "\n",
    "\n",
    "\n"
   ]
  },
  {
   "attachments": {},
   "cell_type": "markdown",
   "metadata": {},
   "source": []
  }
 ],
 "metadata": {
  "kernelspec": {
   "display_name": "Python 3",
   "language": "python",
   "name": "python3"
  },
  "language_info": {
   "codemirror_mode": {
    "name": "ipython",
    "version": 3
   },
   "file_extension": ".py",
   "mimetype": "text/x-python",
   "name": "python",
   "nbconvert_exporter": "python",
   "pygments_lexer": "ipython3",
   "version": "3.11.3"
  },
  "orig_nbformat": 4
 },
 "nbformat": 4,
 "nbformat_minor": 2
}
